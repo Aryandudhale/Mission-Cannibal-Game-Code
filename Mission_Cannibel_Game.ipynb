{
 "cells": [
  {
   "cell_type": "code",
   "execution_count": 2,
   "id": "775990b1",
   "metadata": {},
   "outputs": [
    {
     "name": "stdout",
     "output_type": "stream",
     "text": [
      "M =  0  C =  0 |---------B| M =  3  C =  3\n",
      "enter the no. of missionaries you want on boat:2\n",
      "enter the no. of cannibals you want on boat:0\n",
      "M =  2  C =  0 |B------- M =  1  C =  3\n",
      "YOU LOSE\n"
     ]
    }
   ],
   "source": [
    "boat_side= \"Right\"\n",
    "missionaries_on_right=3\n",
    "missionaries_on_left=0\n",
    "cannibals_on_right=3\n",
    "cannibals_on_left=0\n",
    "\n",
    "print(\"M = \", missionaries_on_left,\" C = \", cannibals_on_left, \"|---------B|\" ,\"M = \", missionaries_on_right,\" C = \", cannibals_on_right )\n",
    "\n",
    "while(True):\n",
    "  missionaries=int(input(\"enter the no. of missionaries you want on boat:\"))\n",
    "  cannibals=int(input(\"enter the no. of cannibals you want on boat:\"))\n",
    "  \n",
    "  if(missionaries+cannibals>2 or missionaries+cannibals<1):\n",
    "    print(\"invalid move 1\")\n",
    "    continue\n",
    "  else:\n",
    "    if(boat_side=='Right'):\n",
    "      if(missionaries_on_right<missionaries or cannibals_on_right<cannibals):\n",
    "        print('invalid move 2')\n",
    "        continue\n",
    "      \n",
    "      missionaries_on_right=missionaries_on_right-missionaries\n",
    "      cannibals_on_right=cannibals_on_right-cannibals\n",
    "      missionaries_on_left=missionaries_on_left+missionaries\n",
    "      cannibals_on_left=cannibals_on_left+cannibals\n",
    "      print(\"M = \", missionaries_on_left,\" C = \", cannibals_on_left, \"|B-------\" ,\"M = \", missionaries_on_right,\" C = \", cannibals_on_right )\n",
    "      boat_side='Left'\n",
    "    else:\n",
    "      if(missionaries_on_left<missionaries or cannibals_on_left<cannibals):\n",
    "        print('invalid move 2')\n",
    "        continue\n",
    "      else:\n",
    "        missionaries_on_right=missionaries_on_right + missionaries\n",
    "        cannibals_on_right=cannibals_on_right + cannibals\n",
    "        missionaries_on_left=missionaries_on_left - missionaries\n",
    "        cannibals_on_left=cannibals_on_left - cannibals\n",
    "        print(\"M = \", missionaries_on_left,\" C = \", cannibals_on_left, \"|---------B|\" ,\"M = \", missionaries_on_right,\" C = \", cannibals_on_right )\n",
    "        boat_side='Right'\n",
    "    if(missionaries_on_left<cannibals_on_left and missionaries_on_left>0):\n",
    "        print(\"YOU LOSE\")\n",
    "        break\n",
    "    elif (missionaries_on_right<cannibals_on_right and missionaries_on_right>0):\n",
    "      print(\"YOU LOSE\")\n",
    "      break\n",
    "    elif(missionaries_on_left==3):\n",
    "      print(\"YOU WIN\")\n",
    "      break"
   ]
  },
  {
   "cell_type": "code",
   "execution_count": null,
   "id": "7169383b",
   "metadata": {},
   "outputs": [],
   "source": []
  }
 ],
 "metadata": {
  "kernelspec": {
   "display_name": "Python 3 (ipykernel)",
   "language": "python",
   "name": "python3"
  },
  "language_info": {
   "codemirror_mode": {
    "name": "ipython",
    "version": 3
   },
   "file_extension": ".py",
   "mimetype": "text/x-python",
   "name": "python",
   "nbconvert_exporter": "python",
   "pygments_lexer": "ipython3",
   "version": "3.11.4"
  }
 },
 "nbformat": 4,
 "nbformat_minor": 5
}
